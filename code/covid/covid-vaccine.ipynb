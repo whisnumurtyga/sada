{
 "cells": [
  {
   "cell_type": "code",
   "execution_count": 1,
   "metadata": {},
   "outputs": [],
   "source": [
    "import pandas as pd\n",
    "import seaborn as sns\n",
    "import matplotlib as plt"
   ]
  },
  {
   "cell_type": "code",
   "execution_count": 2,
   "metadata": {},
   "outputs": [
    {
     "data": {
      "text/html": [
       "<div>\n",
       "<style scoped>\n",
       "    .dataframe tbody tr th:only-of-type {\n",
       "        vertical-align: middle;\n",
       "    }\n",
       "\n",
       "    .dataframe tbody tr th {\n",
       "        vertical-align: top;\n",
       "    }\n",
       "\n",
       "    .dataframe thead th {\n",
       "        text-align: right;\n",
       "    }\n",
       "</style>\n",
       "<table border=\"1\" class=\"dataframe\">\n",
       "  <thead>\n",
       "    <tr style=\"text-align: right;\">\n",
       "      <th></th>\n",
       "      <th>City_or_Regency</th>\n",
       "      <th>Vaccinated</th>\n",
       "      <th>Fully_Vaccinated</th>\n",
       "      <th>Total</th>\n",
       "      <th>Date</th>\n",
       "      <th>URL</th>\n",
       "      <th>Unnamed: 6</th>\n",
       "    </tr>\n",
       "  </thead>\n",
       "  <tbody>\n",
       "    <tr>\n",
       "      <th>0</th>\n",
       "      <td>KOTA SURABAYA</td>\n",
       "      <td>33420</td>\n",
       "      <td>0.0</td>\n",
       "      <td>33420</td>\n",
       "      <td>January 14, 2021</td>\n",
       "      <td>https://twitter.com/KominfoJatim/status/134933...</td>\n",
       "      <td>NaN</td>\n",
       "    </tr>\n",
       "    <tr>\n",
       "      <th>1</th>\n",
       "      <td>KAB GRESIK</td>\n",
       "      <td>5920</td>\n",
       "      <td>0.0</td>\n",
       "      <td>5920</td>\n",
       "      <td>January 14, 2021</td>\n",
       "      <td>https://twitter.com/KominfoJatim/status/134933...</td>\n",
       "      <td>NaN</td>\n",
       "    </tr>\n",
       "    <tr>\n",
       "      <th>2</th>\n",
       "      <td>KAB SIDOARJO</td>\n",
       "      <td>8720</td>\n",
       "      <td>0.0</td>\n",
       "      <td>8720</td>\n",
       "      <td>January 14, 2021</td>\n",
       "      <td>https://twitter.com/KominfoJatim/status/134933...</td>\n",
       "      <td>NaN</td>\n",
       "    </tr>\n",
       "    <tr>\n",
       "      <th>3</th>\n",
       "      <td>KAB LUMAJANG</td>\n",
       "      <td>2960</td>\n",
       "      <td>0.0</td>\n",
       "      <td>2960</td>\n",
       "      <td>February 1, 2021</td>\n",
       "      <td>https://twitter.com/KominfoJatim/status/135637...</td>\n",
       "      <td>NaN</td>\n",
       "    </tr>\n",
       "    <tr>\n",
       "      <th>4</th>\n",
       "      <td>KAB JOMBANG</td>\n",
       "      <td>4175</td>\n",
       "      <td>0.0</td>\n",
       "      <td>4175</td>\n",
       "      <td>February 1, 2021</td>\n",
       "      <td>https://twitter.com/KominfoJatim/status/135637...</td>\n",
       "      <td>NaN</td>\n",
       "    </tr>\n",
       "  </tbody>\n",
       "</table>\n",
       "</div>"
      ],
      "text/plain": [
       "  City_or_Regency  Vaccinated  Fully_Vaccinated  Total              Date  \\\n",
       "0   KOTA SURABAYA       33420               0.0  33420  January 14, 2021   \n",
       "1      KAB GRESIK        5920               0.0   5920  January 14, 2021   \n",
       "2    KAB SIDOARJO        8720               0.0   8720  January 14, 2021   \n",
       "3    KAB LUMAJANG        2960               0.0   2960  February 1, 2021   \n",
       "4     KAB JOMBANG        4175               0.0   4175  February 1, 2021   \n",
       "\n",
       "                                                 URL  Unnamed: 6  \n",
       "0  https://twitter.com/KominfoJatim/status/134933...         NaN  \n",
       "1  https://twitter.com/KominfoJatim/status/134933...         NaN  \n",
       "2  https://twitter.com/KominfoJatim/status/134933...         NaN  \n",
       "3  https://twitter.com/KominfoJatim/status/135637...         NaN  \n",
       "4  https://twitter.com/KominfoJatim/status/135637...         NaN  "
      ]
     },
     "execution_count": 2,
     "metadata": {},
     "output_type": "execute_result"
    }
   ],
   "source": [
    "df = pd.read_csv('datasets/covid/Vaccination Data/Vaksinasi Jawa Timur.csv')\n",
    "df.head()"
   ]
  },
  {
   "cell_type": "code",
   "execution_count": 3,
   "metadata": {},
   "outputs": [
    {
     "data": {
      "text/plain": [
       "Date\n",
       "February 1, 2021     38\n",
       "February 10, 2021    38\n",
       "February 9, 2021     38\n",
       "February 8, 2021     38\n",
       "February 7, 2021     38\n",
       "February 6, 2021     38\n",
       "February 4, 2021     38\n",
       "February 3, 2021     38\n",
       "February 28, 2021    38\n",
       "February 27, 2021    38\n",
       "February 26, 2021    38\n",
       "February 24, 2021    38\n",
       "February 23, 2021    38\n",
       "February 22, 2021    38\n",
       "February 20, 2021    38\n",
       "February 2, 2021     38\n",
       "February 17, 2021    38\n",
       "February 16, 2021    38\n",
       "February 13, 2021    38\n",
       "February 11, 2021    38\n",
       "March 1, 2021        38\n",
       "February 14, 2021    37\n",
       "February 12, 2021    36\n",
       "February 21, 2021    18\n",
       "January 14, 2021      3\n",
       "dtype: int64"
      ]
     },
     "execution_count": 3,
     "metadata": {},
     "output_type": "execute_result"
    }
   ],
   "source": [
    "df.value_counts(\"Date\")"
   ]
  }
 ],
 "metadata": {
  "kernelspec": {
   "display_name": "base",
   "language": "python",
   "name": "python3"
  },
  "language_info": {
   "codemirror_mode": {
    "name": "ipython",
    "version": 3
   },
   "file_extension": ".py",
   "mimetype": "text/x-python",
   "name": "python",
   "nbconvert_exporter": "python",
   "pygments_lexer": "ipython3",
   "version": "3.9.16"
  },
  "orig_nbformat": 4
 },
 "nbformat": 4,
 "nbformat_minor": 2
}
