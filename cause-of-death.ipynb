{
 "cells": [
  {
   "cell_type": "code",
   "execution_count": 102,
   "metadata": {},
   "outputs": [],
   "source": [
    "import pandas as pd\n",
    "import seaborn as sns\n",
    "import matplotlib.pyplot as plt\n"
   ]
  },
  {
   "cell_type": "code",
   "execution_count": 103,
   "metadata": {},
   "outputs": [],
   "source": [
    "# Mengatur opsi untuk menampilkan semua kolom\n",
    "pd.set_option('display.max_columns', None)\n",
    "# Mengatur opsi untuk melingkupi konten kolom\n",
    "pd.set_option('display.max_colwidth', None)\n"
   ]
  },
  {
   "attachments": {},
   "cell_type": "markdown",
   "metadata": {},
   "source": [
    "#### Load Data"
   ]
  },
  {
   "cell_type": "code",
   "execution_count": 104,
   "metadata": {},
   "outputs": [
    {
     "data": {
      "text/html": [
       "<div>\n",
       "<style scoped>\n",
       "    .dataframe tbody tr th:only-of-type {\n",
       "        vertical-align: middle;\n",
       "    }\n",
       "\n",
       "    .dataframe tbody tr th {\n",
       "        vertical-align: top;\n",
       "    }\n",
       "\n",
       "    .dataframe thead th {\n",
       "        text-align: right;\n",
       "    }\n",
       "</style>\n",
       "<table border=\"1\" class=\"dataframe\">\n",
       "  <thead>\n",
       "    <tr style=\"text-align: right;\">\n",
       "      <th></th>\n",
       "      <th>Cause</th>\n",
       "      <th>Type</th>\n",
       "      <th>Year</th>\n",
       "      <th>Data Redundancy</th>\n",
       "      <th>Total Deaths</th>\n",
       "      <th>Source</th>\n",
       "      <th>Page at Source</th>\n",
       "      <th>Source URL</th>\n",
       "    </tr>\n",
       "  </thead>\n",
       "  <tbody>\n",
       "    <tr>\n",
       "      <th>0</th>\n",
       "      <td>Abrasi Air Laut</td>\n",
       "      <td>Bencana Alam</td>\n",
       "      <td>2012</td>\n",
       "      <td>1</td>\n",
       "      <td>0</td>\n",
       "      <td>Profil Kesehatan Indonesia Tahun 2012</td>\n",
       "      <td>Lampiran 3.38</td>\n",
       "      <td>https://pusdatin.kemkes.go.id/download.php?file=download/pusdatin/profil-kesehatan-indonesia/profil-kesehatan-indonesia-2012.pdf</td>\n",
       "    </tr>\n",
       "    <tr>\n",
       "      <th>1</th>\n",
       "      <td>AIDS</td>\n",
       "      <td>Bencana Non Alam dan Penyakit</td>\n",
       "      <td>2000</td>\n",
       "      <td>1</td>\n",
       "      <td>47</td>\n",
       "      <td>Profil Kesehatan Indonesia Tahun 2004</td>\n",
       "      <td>78</td>\n",
       "      <td>https://pusdatin.kemkes.go.id/download.php?file=download/pusdatin/profil-kesehatan-indonesia/profil-kesehatan-indonesia-2004.pdf</td>\n",
       "    </tr>\n",
       "    <tr>\n",
       "      <th>2</th>\n",
       "      <td>AIDS</td>\n",
       "      <td>Bencana Non Alam dan Penyakit</td>\n",
       "      <td>2001</td>\n",
       "      <td>1</td>\n",
       "      <td>99</td>\n",
       "      <td>Profil Kesehatan Indonesia Tahun 2004</td>\n",
       "      <td>78</td>\n",
       "      <td>https://pusdatin.kemkes.go.id/download.php?file=download/pusdatin/profil-kesehatan-indonesia/profil-kesehatan-indonesia-2004.pdf</td>\n",
       "    </tr>\n",
       "    <tr>\n",
       "      <th>3</th>\n",
       "      <td>AIDS</td>\n",
       "      <td>Bencana Non Alam dan Penyakit</td>\n",
       "      <td>2002</td>\n",
       "      <td>1</td>\n",
       "      <td>100</td>\n",
       "      <td>Profil Kesehatan Indonesia Tahun 2004</td>\n",
       "      <td>78</td>\n",
       "      <td>https://pusdatin.kemkes.go.id/download.php?file=download/pusdatin/profil-kesehatan-indonesia/profil-kesehatan-indonesia-2004.pdf</td>\n",
       "    </tr>\n",
       "    <tr>\n",
       "      <th>4</th>\n",
       "      <td>AIDS</td>\n",
       "      <td>Bencana Non Alam dan Penyakit</td>\n",
       "      <td>2003</td>\n",
       "      <td>1</td>\n",
       "      <td>261</td>\n",
       "      <td>Profil Kesehatan Indonesia Tahun 2004</td>\n",
       "      <td>78</td>\n",
       "      <td>https://pusdatin.kemkes.go.id/download.php?file=download/pusdatin/profil-kesehatan-indonesia/profil-kesehatan-indonesia-2004.pdf</td>\n",
       "    </tr>\n",
       "  </tbody>\n",
       "</table>\n",
       "</div>"
      ],
      "text/plain": [
       "             Cause                           Type  Year  Data Redundancy  \\\n",
       "0  Abrasi Air Laut                   Bencana Alam  2012                1   \n",
       "1             AIDS  Bencana Non Alam dan Penyakit  2000                1   \n",
       "2             AIDS  Bencana Non Alam dan Penyakit  2001                1   \n",
       "3             AIDS  Bencana Non Alam dan Penyakit  2002                1   \n",
       "4             AIDS  Bencana Non Alam dan Penyakit  2003                1   \n",
       "\n",
       "   Total Deaths                                 Source Page at Source  \\\n",
       "0             0  Profil Kesehatan Indonesia Tahun 2012  Lampiran 3.38   \n",
       "1            47  Profil Kesehatan Indonesia Tahun 2004             78   \n",
       "2            99  Profil Kesehatan Indonesia Tahun 2004             78   \n",
       "3           100  Profil Kesehatan Indonesia Tahun 2004             78   \n",
       "4           261  Profil Kesehatan Indonesia Tahun 2004             78   \n",
       "\n",
       "                                                                                                                         Source URL  \n",
       "0  https://pusdatin.kemkes.go.id/download.php?file=download/pusdatin/profil-kesehatan-indonesia/profil-kesehatan-indonesia-2012.pdf  \n",
       "1  https://pusdatin.kemkes.go.id/download.php?file=download/pusdatin/profil-kesehatan-indonesia/profil-kesehatan-indonesia-2004.pdf  \n",
       "2  https://pusdatin.kemkes.go.id/download.php?file=download/pusdatin/profil-kesehatan-indonesia/profil-kesehatan-indonesia-2004.pdf  \n",
       "3  https://pusdatin.kemkes.go.id/download.php?file=download/pusdatin/profil-kesehatan-indonesia/profil-kesehatan-indonesia-2004.pdf  \n",
       "4  https://pusdatin.kemkes.go.id/download.php?file=download/pusdatin/profil-kesehatan-indonesia/profil-kesehatan-indonesia-2004.pdf  "
      ]
     },
     "execution_count": 104,
     "metadata": {},
     "output_type": "execute_result"
    }
   ],
   "source": [
    "df = pd.read_csv('datasets/cause-of-death/Penyebab Kematian di Indonesia yang Dilaporkan - Raw.csv')\n",
    "# df = pd.read_csv('datasets/cause-of-death/Penyebab Kematian di Indonesia yang Dilaporkan - Clean.csv')\n",
    "df.head(5)"
   ]
  },
  {
   "attachments": {},
   "cell_type": "markdown",
   "metadata": {},
   "source": [
    "#### Check Data"
   ]
  },
  {
   "cell_type": "code",
   "execution_count": 105,
   "metadata": {},
   "outputs": [
    {
     "data": {
      "text/html": [
       "<div>\n",
       "<style scoped>\n",
       "    .dataframe tbody tr th:only-of-type {\n",
       "        vertical-align: middle;\n",
       "    }\n",
       "\n",
       "    .dataframe tbody tr th {\n",
       "        vertical-align: top;\n",
       "    }\n",
       "\n",
       "    .dataframe thead th {\n",
       "        text-align: right;\n",
       "    }\n",
       "</style>\n",
       "<table border=\"1\" class=\"dataframe\">\n",
       "  <thead>\n",
       "    <tr style=\"text-align: right;\">\n",
       "      <th></th>\n",
       "      <th>Year</th>\n",
       "      <th>Data Redundancy</th>\n",
       "      <th>Total Deaths</th>\n",
       "    </tr>\n",
       "  </thead>\n",
       "  <tbody>\n",
       "    <tr>\n",
       "      <th>count</th>\n",
       "      <td>990.000000</td>\n",
       "      <td>990.000000</td>\n",
       "      <td>990.000000</td>\n",
       "    </tr>\n",
       "    <tr>\n",
       "      <th>mean</th>\n",
       "      <td>2009.455556</td>\n",
       "      <td>0.623232</td>\n",
       "      <td>1132.813131</td>\n",
       "    </tr>\n",
       "    <tr>\n",
       "      <th>std</th>\n",
       "      <td>4.587487</td>\n",
       "      <td>0.484821</td>\n",
       "      <td>5201.675180</td>\n",
       "    </tr>\n",
       "    <tr>\n",
       "      <th>min</th>\n",
       "      <td>2000.000000</td>\n",
       "      <td>0.000000</td>\n",
       "      <td>0.000000</td>\n",
       "    </tr>\n",
       "    <tr>\n",
       "      <th>25%</th>\n",
       "      <td>2006.000000</td>\n",
       "      <td>0.000000</td>\n",
       "      <td>7.000000</td>\n",
       "    </tr>\n",
       "    <tr>\n",
       "      <th>50%</th>\n",
       "      <td>2009.000000</td>\n",
       "      <td>1.000000</td>\n",
       "      <td>43.000000</td>\n",
       "    </tr>\n",
       "    <tr>\n",
       "      <th>75%</th>\n",
       "      <td>2013.000000</td>\n",
       "      <td>1.000000</td>\n",
       "      <td>276.000000</td>\n",
       "    </tr>\n",
       "    <tr>\n",
       "      <th>max</th>\n",
       "      <td>2021.000000</td>\n",
       "      <td>1.000000</td>\n",
       "      <td>129171.000000</td>\n",
       "    </tr>\n",
       "  </tbody>\n",
       "</table>\n",
       "</div>"
      ],
      "text/plain": [
       "              Year  Data Redundancy   Total Deaths\n",
       "count   990.000000       990.000000     990.000000\n",
       "mean   2009.455556         0.623232    1132.813131\n",
       "std       4.587487         0.484821    5201.675180\n",
       "min    2000.000000         0.000000       0.000000\n",
       "25%    2006.000000         0.000000       7.000000\n",
       "50%    2009.000000         1.000000      43.000000\n",
       "75%    2013.000000         1.000000     276.000000\n",
       "max    2021.000000         1.000000  129171.000000"
      ]
     },
     "execution_count": 105,
     "metadata": {},
     "output_type": "execute_result"
    }
   ],
   "source": [
    "df.describe()"
   ]
  },
  {
   "cell_type": "code",
   "execution_count": 106,
   "metadata": {},
   "outputs": [
    {
     "name": "stdout",
     "output_type": "stream",
     "text": [
      "<class 'pandas.core.frame.DataFrame'>\n",
      "RangeIndex: 990 entries, 0 to 989\n",
      "Data columns (total 8 columns):\n",
      " #   Column           Non-Null Count  Dtype \n",
      "---  ------           --------------  ----- \n",
      " 0   Cause            990 non-null    object\n",
      " 1   Type             990 non-null    object\n",
      " 2   Year             990 non-null    int64 \n",
      " 3   Data Redundancy  990 non-null    int64 \n",
      " 4   Total Deaths     990 non-null    int64 \n",
      " 5   Source           990 non-null    object\n",
      " 6   Page at Source   988 non-null    object\n",
      " 7   Source URL       988 non-null    object\n",
      "dtypes: int64(3), object(5)\n",
      "memory usage: 62.0+ KB\n"
     ]
    }
   ],
   "source": [
    "df.info()"
   ]
  },
  {
   "attachments": {},
   "cell_type": "markdown",
   "metadata": {},
   "source": [
    "#### 15 Penyebab Penyakit Teratas"
   ]
  },
  {
   "cell_type": "code",
   "execution_count": 107,
   "metadata": {},
   "outputs": [
    {
     "data": {
      "text/plain": [
       "Cause\n",
       "Avian Influenza (Flu Burung)    101\n",
       "Antraks                          74\n",
       "Leptospirosis                    68\n",
       "KLB Diare                        64\n",
       "Rabies - Lyssa                   51\n",
       "AIDS                             41\n",
       "Demam Berdarah Dengue (DBD)      24\n",
       "Tetanus Neonatorium              22\n",
       "Banjir                           13\n",
       "Gempa Bumi                       13\n",
       "KLB Campak                       13\n",
       "Banjir Bandang                   13\n",
       "Tanah Longsor                    13\n",
       "Difteri                          13\n",
       "Campak                           10\n",
       "dtype: int64"
      ]
     },
     "execution_count": 107,
     "metadata": {},
     "output_type": "execute_result"
    }
   ],
   "source": [
    "df.value_counts(\"Cause\").head(15)"
   ]
  },
  {
   "attachments": {},
   "cell_type": "markdown",
   "metadata": {},
   "source": [
    "#### jenis penyakit"
   ]
  },
  {
   "cell_type": "code",
   "execution_count": 108,
   "metadata": {},
   "outputs": [
    {
     "data": {
      "text/plain": [
       "Type\n",
       "Bencana Non Alam dan Penyakit    848\n",
       "Bencana Alam                     126\n",
       "Bencana Sosial                    16\n",
       "dtype: int64"
      ]
     },
     "execution_count": 108,
     "metadata": {},
     "output_type": "execute_result"
    }
   ],
   "source": [
    "df.value_counts(\"Type\")"
   ]
  },
  {
   "attachments": {},
   "cell_type": "markdown",
   "metadata": {},
   "source": [
    "#### Variable Description\n",
    "1. Cause : specific cause of the death\n",
    "2. Type : category of the cause\n",
    "3. Year : year of the occurance\n",
    "4. Data Redundancy: number of copies of same data in the database\n",
    "5. Total Deaths : number of the death\n",
    "6. Source : source name\n",
    "7. Page at Source : page number at the source\n",
    "8. Source URL : source url"
   ]
  },
  {
   "attachments": {},
   "cell_type": "markdown",
   "metadata": {},
   "source": [
    "#### Handle Missing Values"
   ]
  },
  {
   "cell_type": "code",
   "execution_count": 109,
   "metadata": {},
   "outputs": [
    {
     "data": {
      "text/plain": [
       "Cause              0\n",
       "Type               0\n",
       "Year               0\n",
       "Data Redundancy    0\n",
       "Total Deaths       0\n",
       "Source             0\n",
       "Page at Source     2\n",
       "Source URL         2\n",
       "dtype: int64"
      ]
     },
     "execution_count": 109,
     "metadata": {},
     "output_type": "execute_result"
    }
   ],
   "source": [
    "df.isnull().sum()\n"
   ]
  },
  {
   "cell_type": "code",
   "execution_count": 110,
   "metadata": {},
   "outputs": [
    {
     "data": {
      "text/html": [
       "<div>\n",
       "<style scoped>\n",
       "    .dataframe tbody tr th:only-of-type {\n",
       "        vertical-align: middle;\n",
       "    }\n",
       "\n",
       "    .dataframe tbody tr th {\n",
       "        vertical-align: top;\n",
       "    }\n",
       "\n",
       "    .dataframe thead th {\n",
       "        text-align: right;\n",
       "    }\n",
       "</style>\n",
       "<table border=\"1\" class=\"dataframe\">\n",
       "  <thead>\n",
       "    <tr style=\"text-align: right;\">\n",
       "      <th></th>\n",
       "      <th>Cause</th>\n",
       "      <th>Type</th>\n",
       "      <th>Year</th>\n",
       "      <th>Data Redundancy</th>\n",
       "      <th>Total Deaths</th>\n",
       "      <th>Source</th>\n",
       "      <th>Page at Source</th>\n",
       "      <th>Source URL</th>\n",
       "    </tr>\n",
       "  </thead>\n",
       "  <tbody>\n",
       "    <tr>\n",
       "      <th>310</th>\n",
       "      <td>COVID-19</td>\n",
       "      <td>Bencana Non Alam dan Penyakit</td>\n",
       "      <td>2020</td>\n",
       "      <td>1</td>\n",
       "      <td>22138</td>\n",
       "      <td>COVID19.go.id</td>\n",
       "      <td>NaN</td>\n",
       "      <td>NaN</td>\n",
       "    </tr>\n",
       "    <tr>\n",
       "      <th>311</th>\n",
       "      <td>COVID-19 (per tanggal 24/4/2021)</td>\n",
       "      <td>Bencana Non Alam dan Penyakit</td>\n",
       "      <td>2021</td>\n",
       "      <td>1</td>\n",
       "      <td>22362</td>\n",
       "      <td>COVID19.go.id</td>\n",
       "      <td>NaN</td>\n",
       "      <td>NaN</td>\n",
       "    </tr>\n",
       "  </tbody>\n",
       "</table>\n",
       "</div>"
      ],
      "text/plain": [
       "                                Cause                           Type  Year  \\\n",
       "310                          COVID-19  Bencana Non Alam dan Penyakit  2020   \n",
       "311  COVID-19 (per tanggal 24/4/2021)  Bencana Non Alam dan Penyakit  2021   \n",
       "\n",
       "     Data Redundancy  Total Deaths         Source Page at Source Source URL  \n",
       "310                1         22138  COVID19.go.id            NaN        NaN  \n",
       "311                1         22362  COVID19.go.id            NaN        NaN  "
      ]
     },
     "execution_count": 110,
     "metadata": {},
     "output_type": "execute_result"
    }
   ],
   "source": [
    "df[df[\"Source URL\"].isna() | df[\"Page at Source\"].isna()]"
   ]
  },
  {
   "attachments": {},
   "cell_type": "markdown",
   "metadata": {},
   "source": [
    "##### Update Data COVID-19 (Merge)"
   ]
  },
  {
   "cell_type": "code",
   "execution_count": 111,
   "metadata": {},
   "outputs": [],
   "source": [
    "df.loc[df.Cause == \"COVID-19\", \"Total Deaths\"] = 22138 + 37889\n",
    "df.loc[df.Cause == \"COVID-19\", \"Year\"] = 2021\n",
    "df.loc[df.Cause == \"COVID-19\", \"Source URL\"] = \"unknown\"\n",
    "df.loc[df.Cause == \"COVID-19\", \"Page at Source\"] = \"unknown\""
   ]
  },
  {
   "cell_type": "code",
   "execution_count": 112,
   "metadata": {},
   "outputs": [],
   "source": [
    "df_to_drop = df[ df['Cause'] == \"COVID-19 (per tanggal 3/7/2021)\" ] \n",
    "df = df.drop(df_to_drop.index, axis=0)\n",
    "df.reset_index(drop=True, inplace=True)"
   ]
  },
  {
   "cell_type": "code",
   "execution_count": 113,
   "metadata": {},
   "outputs": [
    {
     "data": {
      "text/html": [
       "<div>\n",
       "<style scoped>\n",
       "    .dataframe tbody tr th:only-of-type {\n",
       "        vertical-align: middle;\n",
       "    }\n",
       "\n",
       "    .dataframe tbody tr th {\n",
       "        vertical-align: top;\n",
       "    }\n",
       "\n",
       "    .dataframe thead th {\n",
       "        text-align: right;\n",
       "    }\n",
       "</style>\n",
       "<table border=\"1\" class=\"dataframe\">\n",
       "  <thead>\n",
       "    <tr style=\"text-align: right;\">\n",
       "      <th></th>\n",
       "      <th>Cause</th>\n",
       "      <th>Type</th>\n",
       "      <th>Year</th>\n",
       "      <th>Data Redundancy</th>\n",
       "      <th>Total Deaths</th>\n",
       "      <th>Source</th>\n",
       "      <th>Page at Source</th>\n",
       "      <th>Source URL</th>\n",
       "    </tr>\n",
       "  </thead>\n",
       "  <tbody>\n",
       "    <tr>\n",
       "      <th>310</th>\n",
       "      <td>COVID-19</td>\n",
       "      <td>Bencana Non Alam dan Penyakit</td>\n",
       "      <td>2021</td>\n",
       "      <td>1</td>\n",
       "      <td>60027</td>\n",
       "      <td>COVID19.go.id</td>\n",
       "      <td>unknown</td>\n",
       "      <td>unknown</td>\n",
       "    </tr>\n",
       "  </tbody>\n",
       "</table>\n",
       "</div>"
      ],
      "text/plain": [
       "        Cause                           Type  Year  Data Redundancy  \\\n",
       "310  COVID-19  Bencana Non Alam dan Penyakit  2021                1   \n",
       "\n",
       "     Total Deaths         Source Page at Source Source URL  \n",
       "310         60027  COVID19.go.id        unknown    unknown  "
      ]
     },
     "execution_count": 113,
     "metadata": {},
     "output_type": "execute_result"
    }
   ],
   "source": [
    "df[(df[\"Cause\"]==\"COVID-19\") | (df[\"Cause\"]==\"COVID-19 (per tanggal 3/7/2021)\")]"
   ]
  },
  {
   "cell_type": "code",
   "execution_count": 114,
   "metadata": {},
   "outputs": [
    {
     "data": {
      "text/plain": [
       "Cause              0\n",
       "Type               0\n",
       "Year               0\n",
       "Data Redundancy    0\n",
       "Total Deaths       0\n",
       "Source             0\n",
       "Page at Source     1\n",
       "Source URL         1\n",
       "dtype: int64"
      ]
     },
     "execution_count": 114,
     "metadata": {},
     "output_type": "execute_result"
    }
   ],
   "source": [
    "df.isnull().sum()"
   ]
  },
  {
   "attachments": {},
   "cell_type": "markdown",
   "metadata": {},
   "source": [
    "#### Ternyata masih ada data covid, jadi kita merger lagi"
   ]
  },
  {
   "cell_type": "code",
   "execution_count": 115,
   "metadata": {},
   "outputs": [
    {
     "data": {
      "text/html": [
       "<div>\n",
       "<style scoped>\n",
       "    .dataframe tbody tr th:only-of-type {\n",
       "        vertical-align: middle;\n",
       "    }\n",
       "\n",
       "    .dataframe tbody tr th {\n",
       "        vertical-align: top;\n",
       "    }\n",
       "\n",
       "    .dataframe thead th {\n",
       "        text-align: right;\n",
       "    }\n",
       "</style>\n",
       "<table border=\"1\" class=\"dataframe\">\n",
       "  <thead>\n",
       "    <tr style=\"text-align: right;\">\n",
       "      <th></th>\n",
       "      <th>Cause</th>\n",
       "      <th>Type</th>\n",
       "      <th>Year</th>\n",
       "      <th>Data Redundancy</th>\n",
       "      <th>Total Deaths</th>\n",
       "      <th>Source</th>\n",
       "      <th>Page at Source</th>\n",
       "      <th>Source URL</th>\n",
       "    </tr>\n",
       "  </thead>\n",
       "  <tbody>\n",
       "    <tr>\n",
       "      <th>311</th>\n",
       "      <td>COVID-19 (per tanggal 24/4/2021)</td>\n",
       "      <td>Bencana Non Alam dan Penyakit</td>\n",
       "      <td>2021</td>\n",
       "      <td>1</td>\n",
       "      <td>22362</td>\n",
       "      <td>COVID19.go.id</td>\n",
       "      <td>NaN</td>\n",
       "      <td>NaN</td>\n",
       "    </tr>\n",
       "  </tbody>\n",
       "</table>\n",
       "</div>"
      ],
      "text/plain": [
       "                                Cause                           Type  Year  \\\n",
       "311  COVID-19 (per tanggal 24/4/2021)  Bencana Non Alam dan Penyakit  2021   \n",
       "\n",
       "     Data Redundancy  Total Deaths         Source Page at Source Source URL  \n",
       "311                1         22362  COVID19.go.id            NaN        NaN  "
      ]
     },
     "execution_count": 115,
     "metadata": {},
     "output_type": "execute_result"
    }
   ],
   "source": [
    "df[df[\"Source URL\"].isna() | df[\"Page at Source\"].isna()]"
   ]
  },
  {
   "cell_type": "code",
   "execution_count": 120,
   "metadata": {},
   "outputs": [
    {
     "data": {
      "text/html": [
       "<div>\n",
       "<style scoped>\n",
       "    .dataframe tbody tr th:only-of-type {\n",
       "        vertical-align: middle;\n",
       "    }\n",
       "\n",
       "    .dataframe tbody tr th {\n",
       "        vertical-align: top;\n",
       "    }\n",
       "\n",
       "    .dataframe thead th {\n",
       "        text-align: right;\n",
       "    }\n",
       "</style>\n",
       "<table border=\"1\" class=\"dataframe\">\n",
       "  <thead>\n",
       "    <tr style=\"text-align: right;\">\n",
       "      <th></th>\n",
       "      <th>Cause</th>\n",
       "      <th>Type</th>\n",
       "      <th>Year</th>\n",
       "      <th>Data Redundancy</th>\n",
       "      <th>Total Deaths</th>\n",
       "      <th>Source</th>\n",
       "      <th>Page at Source</th>\n",
       "      <th>Source URL</th>\n",
       "    </tr>\n",
       "  </thead>\n",
       "  <tbody>\n",
       "  </tbody>\n",
       "</table>\n",
       "</div>"
      ],
      "text/plain": [
       "Empty DataFrame\n",
       "Columns: [Cause, Type, Year, Data Redundancy, Total Deaths, Source, Page at Source, Source URL]\n",
       "Index: []"
      ]
     },
     "execution_count": 120,
     "metadata": {},
     "output_type": "execute_result"
    }
   ],
   "source": [
    "df.loc[df.Cause == \"COVID-19\", \"Total Deaths\"] = 22138 + 22362\n",
    "df.loc[df.Cause == \"COVID-19\", \"Year\"] = 2021\n",
    "df.loc[df.Cause == \"COVID-19\", \"Source URL\"] = \"unknown\"\n",
    "df.loc[df.Cause == \"COVID-19\", \"Page at Source\"] = \"unknown\"\n",
    "\n",
    "df_to_drop = df[ df['Cause'] == \"COVID-19 (per tanggal 24/4/2021)\" ] \n",
    "df = df.drop(df_to_drop.index, axis=0)\n",
    "df.reset_index(drop=True, inplace=True)\n",
    "\n",
    "df[df[\"Source URL\"].isna() | df[\"Page at Source\"].isna()]"
   ]
  },
  {
   "attachments": {},
   "cell_type": "markdown",
   "metadata": {},
   "source": [
    "##### cek apa sudah tidak ada missing values"
   ]
  },
  {
   "cell_type": "code",
   "execution_count": 121,
   "metadata": {},
   "outputs": [
    {
     "data": {
      "text/plain": [
       "Cause              0\n",
       "Type               0\n",
       "Year               0\n",
       "Data Redundancy    0\n",
       "Total Deaths       0\n",
       "Source             0\n",
       "Page at Source     0\n",
       "Source URL         0\n",
       "dtype: int64"
      ]
     },
     "execution_count": 121,
     "metadata": {},
     "output_type": "execute_result"
    }
   ],
   "source": [
    "df.isnull().sum()"
   ]
  },
  {
   "attachments": {},
   "cell_type": "markdown",
   "metadata": {},
   "source": [
    "#### pastikan spasi hanya 1"
   ]
  },
  {
   "cell_type": "code",
   "execution_count": 122,
   "metadata": {},
   "outputs": [
    {
     "data": {
      "text/html": [
       "<div>\n",
       "<style scoped>\n",
       "    .dataframe tbody tr th:only-of-type {\n",
       "        vertical-align: middle;\n",
       "    }\n",
       "\n",
       "    .dataframe tbody tr th {\n",
       "        vertical-align: top;\n",
       "    }\n",
       "\n",
       "    .dataframe thead th {\n",
       "        text-align: right;\n",
       "    }\n",
       "</style>\n",
       "<table border=\"1\" class=\"dataframe\">\n",
       "  <thead>\n",
       "    <tr style=\"text-align: right;\">\n",
       "      <th></th>\n",
       "      <th>Cause</th>\n",
       "      <th>Type</th>\n",
       "      <th>Year</th>\n",
       "      <th>Data Redundancy</th>\n",
       "      <th>Total Deaths</th>\n",
       "      <th>Source</th>\n",
       "      <th>Page at Source</th>\n",
       "      <th>Source URL</th>\n",
       "    </tr>\n",
       "  </thead>\n",
       "  <tbody>\n",
       "    <tr>\n",
       "      <th>0</th>\n",
       "      <td>Abrasi Air Laut</td>\n",
       "      <td>Bencana Alam</td>\n",
       "      <td>2012</td>\n",
       "      <td>1</td>\n",
       "      <td>0</td>\n",
       "      <td>Profil Kesehatan Indonesia Tahun 2012</td>\n",
       "      <td>Lampiran 3.38</td>\n",
       "      <td>https://pusdatin.kemkes.go.id/download.php?file=download/pusdatin/profil-kesehatan-indonesia/profil-kesehatan-indonesia-2012.pdf</td>\n",
       "    </tr>\n",
       "    <tr>\n",
       "      <th>1</th>\n",
       "      <td>AIDS</td>\n",
       "      <td>Bencana Non Alam dan Penyakit</td>\n",
       "      <td>2000</td>\n",
       "      <td>1</td>\n",
       "      <td>47</td>\n",
       "      <td>Profil Kesehatan Indonesia Tahun 2004</td>\n",
       "      <td>78</td>\n",
       "      <td>https://pusdatin.kemkes.go.id/download.php?file=download/pusdatin/profil-kesehatan-indonesia/profil-kesehatan-indonesia-2004.pdf</td>\n",
       "    </tr>\n",
       "    <tr>\n",
       "      <th>2</th>\n",
       "      <td>AIDS</td>\n",
       "      <td>Bencana Non Alam dan Penyakit</td>\n",
       "      <td>2001</td>\n",
       "      <td>1</td>\n",
       "      <td>99</td>\n",
       "      <td>Profil Kesehatan Indonesia Tahun 2004</td>\n",
       "      <td>78</td>\n",
       "      <td>https://pusdatin.kemkes.go.id/download.php?file=download/pusdatin/profil-kesehatan-indonesia/profil-kesehatan-indonesia-2004.pdf</td>\n",
       "    </tr>\n",
       "    <tr>\n",
       "      <th>3</th>\n",
       "      <td>AIDS</td>\n",
       "      <td>Bencana Non Alam dan Penyakit</td>\n",
       "      <td>2002</td>\n",
       "      <td>1</td>\n",
       "      <td>100</td>\n",
       "      <td>Profil Kesehatan Indonesia Tahun 2004</td>\n",
       "      <td>78</td>\n",
       "      <td>https://pusdatin.kemkes.go.id/download.php?file=download/pusdatin/profil-kesehatan-indonesia/profil-kesehatan-indonesia-2004.pdf</td>\n",
       "    </tr>\n",
       "    <tr>\n",
       "      <th>4</th>\n",
       "      <td>AIDS</td>\n",
       "      <td>Bencana Non Alam dan Penyakit</td>\n",
       "      <td>2003</td>\n",
       "      <td>1</td>\n",
       "      <td>261</td>\n",
       "      <td>Profil Kesehatan Indonesia Tahun 2004</td>\n",
       "      <td>78</td>\n",
       "      <td>https://pusdatin.kemkes.go.id/download.php?file=download/pusdatin/profil-kesehatan-indonesia/profil-kesehatan-indonesia-2004.pdf</td>\n",
       "    </tr>\n",
       "  </tbody>\n",
       "</table>\n",
       "</div>"
      ],
      "text/plain": [
       "             Cause                           Type  Year  Data Redundancy  \\\n",
       "0  Abrasi Air Laut                   Bencana Alam  2012                1   \n",
       "1             AIDS  Bencana Non Alam dan Penyakit  2000                1   \n",
       "2             AIDS  Bencana Non Alam dan Penyakit  2001                1   \n",
       "3             AIDS  Bencana Non Alam dan Penyakit  2002                1   \n",
       "4             AIDS  Bencana Non Alam dan Penyakit  2003                1   \n",
       "\n",
       "   Total Deaths                                 Source Page at Source  \\\n",
       "0             0  Profil Kesehatan Indonesia Tahun 2012  Lampiran 3.38   \n",
       "1            47  Profil Kesehatan Indonesia Tahun 2004             78   \n",
       "2            99  Profil Kesehatan Indonesia Tahun 2004             78   \n",
       "3           100  Profil Kesehatan Indonesia Tahun 2004             78   \n",
       "4           261  Profil Kesehatan Indonesia Tahun 2004             78   \n",
       "\n",
       "                                                                                                                         Source URL  \n",
       "0  https://pusdatin.kemkes.go.id/download.php?file=download/pusdatin/profil-kesehatan-indonesia/profil-kesehatan-indonesia-2012.pdf  \n",
       "1  https://pusdatin.kemkes.go.id/download.php?file=download/pusdatin/profil-kesehatan-indonesia/profil-kesehatan-indonesia-2004.pdf  \n",
       "2  https://pusdatin.kemkes.go.id/download.php?file=download/pusdatin/profil-kesehatan-indonesia/profil-kesehatan-indonesia-2004.pdf  \n",
       "3  https://pusdatin.kemkes.go.id/download.php?file=download/pusdatin/profil-kesehatan-indonesia/profil-kesehatan-indonesia-2004.pdf  \n",
       "4  https://pusdatin.kemkes.go.id/download.php?file=download/pusdatin/profil-kesehatan-indonesia/profil-kesehatan-indonesia-2004.pdf  "
      ]
     },
     "execution_count": 122,
     "metadata": {},
     "output_type": "execute_result"
    }
   ],
   "source": [
    "df['Cause'] = df['Cause'].replace('\\s+', ' ', regex=True)\n",
    "df['Type'] = df['Type'].replace('\\s+', ' ', regex=True)\n",
    "df['Source'] = df['Source'].replace('\\s+', ' ', regex=True)\n",
    "df['Page at Source'] = df['Page at Source'].replace('\\s+', ' ', regex=True)\n",
    "df['Source URL'] = df['Source URL'].replace('\\s+', ' ', regex=True)\n",
    "\n",
    "df.head()"
   ]
  },
  {
   "attachments": {},
   "cell_type": "markdown",
   "metadata": {},
   "source": [
    "#### cek data duplikat"
   ]
  },
  {
   "cell_type": "code",
   "execution_count": 123,
   "metadata": {},
   "outputs": [
    {
     "data": {
      "text/html": [
       "<div>\n",
       "<style scoped>\n",
       "    .dataframe tbody tr th:only-of-type {\n",
       "        vertical-align: middle;\n",
       "    }\n",
       "\n",
       "    .dataframe tbody tr th {\n",
       "        vertical-align: top;\n",
       "    }\n",
       "\n",
       "    .dataframe thead th {\n",
       "        text-align: right;\n",
       "    }\n",
       "</style>\n",
       "<table border=\"1\" class=\"dataframe\">\n",
       "  <thead>\n",
       "    <tr style=\"text-align: right;\">\n",
       "      <th></th>\n",
       "      <th>Cause</th>\n",
       "      <th>Type</th>\n",
       "      <th>Year</th>\n",
       "      <th>Data Redundancy</th>\n",
       "      <th>Total Deaths</th>\n",
       "      <th>Source</th>\n",
       "      <th>Page at Source</th>\n",
       "      <th>Source URL</th>\n",
       "    </tr>\n",
       "  </thead>\n",
       "  <tbody>\n",
       "    <tr>\n",
       "      <th>585</th>\n",
       "      <td>KLB Diare</td>\n",
       "      <td>Bencana Non Alam dan Penyakit</td>\n",
       "      <td>2010</td>\n",
       "      <td>1</td>\n",
       "      <td>73</td>\n",
       "      <td>Profil Kesehatan Indonesia Tahun 2011</td>\n",
       "      <td>Lampiran 3.19</td>\n",
       "      <td>https://pusdatin.kemkes.go.id/download.php?file=download/pusdatin/profil-kesehatan-indonesia/profil-kesehatan-indonesia-2011.pdf</td>\n",
       "    </tr>\n",
       "    <tr>\n",
       "      <th>586</th>\n",
       "      <td>KLB Diare</td>\n",
       "      <td>Bencana Non Alam dan Penyakit</td>\n",
       "      <td>2010</td>\n",
       "      <td>1</td>\n",
       "      <td>73</td>\n",
       "      <td>Profil Kesehatan Indonesia Tahun 2011</td>\n",
       "      <td>Lampiran 3.19</td>\n",
       "      <td>https://pusdatin.kemkes.go.id/download.php?file=download/pusdatin/profil-kesehatan-indonesia/profil-kesehatan-indonesia-2011.pdf</td>\n",
       "    </tr>\n",
       "  </tbody>\n",
       "</table>\n",
       "</div>"
      ],
      "text/plain": [
       "         Cause                           Type  Year  Data Redundancy  \\\n",
       "585  KLB Diare  Bencana Non Alam dan Penyakit  2010                1   \n",
       "586  KLB Diare  Bencana Non Alam dan Penyakit  2010                1   \n",
       "\n",
       "     Total Deaths                                 Source Page at Source  \\\n",
       "585            73  Profil Kesehatan Indonesia Tahun 2011  Lampiran 3.19   \n",
       "586            73  Profil Kesehatan Indonesia Tahun 2011  Lampiran 3.19   \n",
       "\n",
       "                                                                                                                           Source URL  \n",
       "585  https://pusdatin.kemkes.go.id/download.php?file=download/pusdatin/profil-kesehatan-indonesia/profil-kesehatan-indonesia-2011.pdf  \n",
       "586  https://pusdatin.kemkes.go.id/download.php?file=download/pusdatin/profil-kesehatan-indonesia/profil-kesehatan-indonesia-2011.pdf  "
      ]
     },
     "execution_count": 123,
     "metadata": {},
     "output_type": "execute_result"
    }
   ],
   "source": [
    "df[df.duplicated(keep=False)]\n"
   ]
  },
  {
   "cell_type": "code",
   "execution_count": 125,
   "metadata": {},
   "outputs": [
    {
     "data": {
      "text/html": [
       "<div>\n",
       "<style scoped>\n",
       "    .dataframe tbody tr th:only-of-type {\n",
       "        vertical-align: middle;\n",
       "    }\n",
       "\n",
       "    .dataframe tbody tr th {\n",
       "        vertical-align: top;\n",
       "    }\n",
       "\n",
       "    .dataframe thead th {\n",
       "        text-align: right;\n",
       "    }\n",
       "</style>\n",
       "<table border=\"1\" class=\"dataframe\">\n",
       "  <thead>\n",
       "    <tr style=\"text-align: right;\">\n",
       "      <th></th>\n",
       "      <th>Cause</th>\n",
       "      <th>Type</th>\n",
       "      <th>Year</th>\n",
       "      <th>Data Redundancy</th>\n",
       "      <th>Total Deaths</th>\n",
       "      <th>Source</th>\n",
       "      <th>Page at Source</th>\n",
       "      <th>Source URL</th>\n",
       "    </tr>\n",
       "  </thead>\n",
       "  <tbody>\n",
       "  </tbody>\n",
       "</table>\n",
       "</div>"
      ],
      "text/plain": [
       "Empty DataFrame\n",
       "Columns: [Cause, Type, Year, Data Redundancy, Total Deaths, Source, Page at Source, Source URL]\n",
       "Index: []"
      ]
     },
     "execution_count": 125,
     "metadata": {},
     "output_type": "execute_result"
    }
   ],
   "source": [
    "df.drop_duplicates(inplace=True)\n",
    "df[df.duplicated(keep=False)]\n"
   ]
  },
  {
   "attachments": {},
   "cell_type": "markdown",
   "metadata": {},
   "source": [
    "#### cek data duplikat dengan mengecualikan source url"
   ]
  },
  {
   "cell_type": "code",
   "execution_count": 127,
   "metadata": {},
   "outputs": [
    {
     "data": {
      "text/html": [
       "<div>\n",
       "<style scoped>\n",
       "    .dataframe tbody tr th:only-of-type {\n",
       "        vertical-align: middle;\n",
       "    }\n",
       "\n",
       "    .dataframe tbody tr th {\n",
       "        vertical-align: top;\n",
       "    }\n",
       "\n",
       "    .dataframe thead th {\n",
       "        text-align: right;\n",
       "    }\n",
       "</style>\n",
       "<table border=\"1\" class=\"dataframe\">\n",
       "  <thead>\n",
       "    <tr style=\"text-align: right;\">\n",
       "      <th></th>\n",
       "      <th>Cause</th>\n",
       "      <th>Type</th>\n",
       "      <th>Year</th>\n",
       "      <th>Data Redundancy</th>\n",
       "      <th>Total Deaths</th>\n",
       "      <th>Source</th>\n",
       "      <th>Page at Source</th>\n",
       "      <th>Source URL</th>\n",
       "    </tr>\n",
       "  </thead>\n",
       "  <tbody>\n",
       "    <tr>\n",
       "      <th>98</th>\n",
       "      <td>Antraks</td>\n",
       "      <td>Bencana Non Alam dan Penyakit</td>\n",
       "      <td>2011</td>\n",
       "      <td>1</td>\n",
       "      <td>1</td>\n",
       "      <td>Profil Kesehatan Indonesia Tahun 2013</td>\n",
       "      <td>158</td>\n",
       "      <td>https://pusdatin.kemkes.go.id/download.php?file=download/pusdatin/profil-kesehatan-indonesia/profil-kesehatan-indonesia-2013.pdf</td>\n",
       "    </tr>\n",
       "    <tr>\n",
       "      <th>99</th>\n",
       "      <td>Antraks</td>\n",
       "      <td>Bencana Non Alam dan Penyakit</td>\n",
       "      <td>2011</td>\n",
       "      <td>1</td>\n",
       "      <td>1</td>\n",
       "      <td>Profil Kesehatan Indonesia Tahun 2013</td>\n",
       "      <td>Lampiran 6.33</td>\n",
       "      <td>https://pusdatin.kemkes.go.id/download.php?file=download/pusdatin/profil-kesehatan-indonesia/profil-kesehatan-indonesia-2013.pdf</td>\n",
       "    </tr>\n",
       "    <tr>\n",
       "      <th>106</th>\n",
       "      <td>Antraks</td>\n",
       "      <td>Bencana Non Alam dan Penyakit</td>\n",
       "      <td>2012</td>\n",
       "      <td>1</td>\n",
       "      <td>0</td>\n",
       "      <td>Profil Kesehatan Indonesia Tahun 2013</td>\n",
       "      <td>158</td>\n",
       "      <td>https://pusdatin.kemkes.go.id/download.php?file=download/pusdatin/profil-kesehatan-indonesia/profil-kesehatan-indonesia-2013.pdf</td>\n",
       "    </tr>\n",
       "    <tr>\n",
       "      <th>107</th>\n",
       "      <td>Antraks</td>\n",
       "      <td>Bencana Non Alam dan Penyakit</td>\n",
       "      <td>2012</td>\n",
       "      <td>1</td>\n",
       "      <td>0</td>\n",
       "      <td>Profil Kesehatan Indonesia Tahun 2013</td>\n",
       "      <td>Lampiran 6.33</td>\n",
       "      <td>https://pusdatin.kemkes.go.id/download.php?file=download/pusdatin/profil-kesehatan-indonesia/profil-kesehatan-indonesia-2013.pdf</td>\n",
       "    </tr>\n",
       "    <tr>\n",
       "      <th>113</th>\n",
       "      <td>Antraks</td>\n",
       "      <td>Bencana Non Alam dan Penyakit</td>\n",
       "      <td>2013</td>\n",
       "      <td>1</td>\n",
       "      <td>1</td>\n",
       "      <td>Profil Kesehatan Indonesia Tahun 2013</td>\n",
       "      <td>158</td>\n",
       "      <td>https://pusdatin.kemkes.go.id/download.php?file=download/pusdatin/profil-kesehatan-indonesia/profil-kesehatan-indonesia-2013.pdf</td>\n",
       "    </tr>\n",
       "    <tr>\n",
       "      <th>114</th>\n",
       "      <td>Antraks</td>\n",
       "      <td>Bencana Non Alam dan Penyakit</td>\n",
       "      <td>2013</td>\n",
       "      <td>1</td>\n",
       "      <td>1</td>\n",
       "      <td>Profil Kesehatan Indonesia Tahun 2013</td>\n",
       "      <td>Lampiran 6.33</td>\n",
       "      <td>https://pusdatin.kemkes.go.id/download.php?file=download/pusdatin/profil-kesehatan-indonesia/profil-kesehatan-indonesia-2013.pdf</td>\n",
       "    </tr>\n",
       "    <tr>\n",
       "      <th>307</th>\n",
       "      <td>Cedera, Keracunan, dan Akibat Sebab Luar Tertentu Lainnya</td>\n",
       "      <td>Bencana Non Alam dan Penyakit</td>\n",
       "      <td>2008</td>\n",
       "      <td>1</td>\n",
       "      <td>5767</td>\n",
       "      <td>Profil Kesehatan Indonesia Tahun 2008</td>\n",
       "      <td>31</td>\n",
       "      <td>https://pusdatin.kemkes.go.id/download.php?file=download/pusdatin/profil-kesehatan-indonesia/profil-kesehatan-indonesia-2008.pdf</td>\n",
       "    </tr>\n",
       "    <tr>\n",
       "      <th>308</th>\n",
       "      <td>Cedera, Keracunan, dan Akibat Sebab Luar Tertentu Lainnya</td>\n",
       "      <td>Bencana Non Alam dan Penyakit</td>\n",
       "      <td>2008</td>\n",
       "      <td>1</td>\n",
       "      <td>5767</td>\n",
       "      <td>Profil Kesehatan Indonesia Tahun 2008</td>\n",
       "      <td>Lampiran 3.4</td>\n",
       "      <td>https://pusdatin.kemkes.go.id/download.php?file=download/pusdatin/profil-kesehatan-indonesia/profil-kesehatan-indonesia-2008.pdf</td>\n",
       "    </tr>\n",
       "    <tr>\n",
       "      <th>398</th>\n",
       "      <td>Gejala, Tanda &amp; Penemuan Laboratorium, Klinik Abnormal YTK</td>\n",
       "      <td>Bencana Non Alam dan Penyakit</td>\n",
       "      <td>2008</td>\n",
       "      <td>1</td>\n",
       "      <td>4238</td>\n",
       "      <td>Profil Kesehatan Indonesia Tahun 2008</td>\n",
       "      <td>31</td>\n",
       "      <td>https://pusdatin.kemkes.go.id/download.php?file=download/pusdatin/profil-kesehatan-indonesia/profil-kesehatan-indonesia-2008.pdf</td>\n",
       "    </tr>\n",
       "    <tr>\n",
       "      <th>399</th>\n",
       "      <td>Gejala, Tanda &amp; Penemuan Laboratorium, Klinik Abnormal YTK</td>\n",
       "      <td>Bencana Non Alam dan Penyakit</td>\n",
       "      <td>2008</td>\n",
       "      <td>1</td>\n",
       "      <td>4238</td>\n",
       "      <td>Profil Kesehatan Indonesia Tahun 2008</td>\n",
       "      <td>Lampiran 3.4</td>\n",
       "      <td>https://pusdatin.kemkes.go.id/download.php?file=download/pusdatin/profil-kesehatan-indonesia/profil-kesehatan-indonesia-2008.pdf</td>\n",
       "    </tr>\n",
       "  </tbody>\n",
       "</table>\n",
       "</div>"
      ],
      "text/plain": [
       "                                                          Cause  \\\n",
       "98                                                      Antraks   \n",
       "99                                                      Antraks   \n",
       "106                                                     Antraks   \n",
       "107                                                     Antraks   \n",
       "113                                                     Antraks   \n",
       "114                                                     Antraks   \n",
       "307   Cedera, Keracunan, dan Akibat Sebab Luar Tertentu Lainnya   \n",
       "308   Cedera, Keracunan, dan Akibat Sebab Luar Tertentu Lainnya   \n",
       "398  Gejala, Tanda & Penemuan Laboratorium, Klinik Abnormal YTK   \n",
       "399  Gejala, Tanda & Penemuan Laboratorium, Klinik Abnormal YTK   \n",
       "\n",
       "                              Type  Year  Data Redundancy  Total Deaths  \\\n",
       "98   Bencana Non Alam dan Penyakit  2011                1             1   \n",
       "99   Bencana Non Alam dan Penyakit  2011                1             1   \n",
       "106  Bencana Non Alam dan Penyakit  2012                1             0   \n",
       "107  Bencana Non Alam dan Penyakit  2012                1             0   \n",
       "113  Bencana Non Alam dan Penyakit  2013                1             1   \n",
       "114  Bencana Non Alam dan Penyakit  2013                1             1   \n",
       "307  Bencana Non Alam dan Penyakit  2008                1          5767   \n",
       "308  Bencana Non Alam dan Penyakit  2008                1          5767   \n",
       "398  Bencana Non Alam dan Penyakit  2008                1          4238   \n",
       "399  Bencana Non Alam dan Penyakit  2008                1          4238   \n",
       "\n",
       "                                    Source Page at Source  \\\n",
       "98   Profil Kesehatan Indonesia Tahun 2013            158   \n",
       "99   Profil Kesehatan Indonesia Tahun 2013  Lampiran 6.33   \n",
       "106  Profil Kesehatan Indonesia Tahun 2013            158   \n",
       "107  Profil Kesehatan Indonesia Tahun 2013  Lampiran 6.33   \n",
       "113  Profil Kesehatan Indonesia Tahun 2013            158   \n",
       "114  Profil Kesehatan Indonesia Tahun 2013  Lampiran 6.33   \n",
       "307  Profil Kesehatan Indonesia Tahun 2008             31   \n",
       "308  Profil Kesehatan Indonesia Tahun 2008   Lampiran 3.4   \n",
       "398  Profil Kesehatan Indonesia Tahun 2008             31   \n",
       "399  Profil Kesehatan Indonesia Tahun 2008   Lampiran 3.4   \n",
       "\n",
       "                                                                                                                           Source URL  \n",
       "98   https://pusdatin.kemkes.go.id/download.php?file=download/pusdatin/profil-kesehatan-indonesia/profil-kesehatan-indonesia-2013.pdf  \n",
       "99   https://pusdatin.kemkes.go.id/download.php?file=download/pusdatin/profil-kesehatan-indonesia/profil-kesehatan-indonesia-2013.pdf  \n",
       "106  https://pusdatin.kemkes.go.id/download.php?file=download/pusdatin/profil-kesehatan-indonesia/profil-kesehatan-indonesia-2013.pdf  \n",
       "107  https://pusdatin.kemkes.go.id/download.php?file=download/pusdatin/profil-kesehatan-indonesia/profil-kesehatan-indonesia-2013.pdf  \n",
       "113  https://pusdatin.kemkes.go.id/download.php?file=download/pusdatin/profil-kesehatan-indonesia/profil-kesehatan-indonesia-2013.pdf  \n",
       "114  https://pusdatin.kemkes.go.id/download.php?file=download/pusdatin/profil-kesehatan-indonesia/profil-kesehatan-indonesia-2013.pdf  \n",
       "307  https://pusdatin.kemkes.go.id/download.php?file=download/pusdatin/profil-kesehatan-indonesia/profil-kesehatan-indonesia-2008.pdf  \n",
       "308  https://pusdatin.kemkes.go.id/download.php?file=download/pusdatin/profil-kesehatan-indonesia/profil-kesehatan-indonesia-2008.pdf  \n",
       "398  https://pusdatin.kemkes.go.id/download.php?file=download/pusdatin/profil-kesehatan-indonesia/profil-kesehatan-indonesia-2008.pdf  \n",
       "399  https://pusdatin.kemkes.go.id/download.php?file=download/pusdatin/profil-kesehatan-indonesia/profil-kesehatan-indonesia-2008.pdf  "
      ]
     },
     "execution_count": 127,
     "metadata": {},
     "output_type": "execute_result"
    }
   ],
   "source": [
    "df[df.duplicated(['Cause', 'Type', 'Year', 'Data Redundancy', 'Total Deaths', 'Source', 'Source URL'], keep=False)].head(10)"
   ]
  },
  {
   "cell_type": "code",
   "execution_count": 129,
   "metadata": {},
   "outputs": [],
   "source": [
    "df.drop_duplicates(['Cause', 'Type', 'Year', 'Data Redundancy', 'Total Deaths', 'Source'], keep='first',inplace=True)"
   ]
  },
  {
   "cell_type": "code",
   "execution_count": 131,
   "metadata": {},
   "outputs": [
    {
     "data": {
      "text/html": [
       "<div>\n",
       "<style scoped>\n",
       "    .dataframe tbody tr th:only-of-type {\n",
       "        vertical-align: middle;\n",
       "    }\n",
       "\n",
       "    .dataframe tbody tr th {\n",
       "        vertical-align: top;\n",
       "    }\n",
       "\n",
       "    .dataframe thead th {\n",
       "        text-align: right;\n",
       "    }\n",
       "</style>\n",
       "<table border=\"1\" class=\"dataframe\">\n",
       "  <thead>\n",
       "    <tr style=\"text-align: right;\">\n",
       "      <th></th>\n",
       "      <th>Cause</th>\n",
       "      <th>Type</th>\n",
       "      <th>Year</th>\n",
       "      <th>Data Redundancy</th>\n",
       "      <th>Total Deaths</th>\n",
       "      <th>Source</th>\n",
       "      <th>Page at Source</th>\n",
       "      <th>Source URL</th>\n",
       "    </tr>\n",
       "  </thead>\n",
       "  <tbody>\n",
       "  </tbody>\n",
       "</table>\n",
       "</div>"
      ],
      "text/plain": [
       "Empty DataFrame\n",
       "Columns: [Cause, Type, Year, Data Redundancy, Total Deaths, Source, Page at Source, Source URL]\n",
       "Index: []"
      ]
     },
     "execution_count": 131,
     "metadata": {},
     "output_type": "execute_result"
    }
   ],
   "source": [
    "df[df.duplicated(['Cause', 'Type', 'Year', 'Data Redundancy', 'Total Deaths', 'Source', 'Source URL'], keep=False)].head(10)"
   ]
  },
  {
   "cell_type": "code",
   "execution_count": 132,
   "metadata": {},
   "outputs": [
    {
     "name": "stdout",
     "output_type": "stream",
     "text": [
      "<class 'pandas.core.frame.DataFrame'>\n",
      "RangeIndex: 970 entries, 0 to 969\n",
      "Data columns (total 8 columns):\n",
      " #   Column           Non-Null Count  Dtype \n",
      "---  ------           --------------  ----- \n",
      " 0   Cause            970 non-null    object\n",
      " 1   Type             970 non-null    object\n",
      " 2   Year             970 non-null    int64 \n",
      " 3   Data Redundancy  970 non-null    int64 \n",
      " 4   Total Deaths     970 non-null    int64 \n",
      " 5   Source           970 non-null    object\n",
      " 6   Page at Source   970 non-null    object\n",
      " 7   Source URL       970 non-null    object\n",
      "dtypes: int64(3), object(5)\n",
      "memory usage: 60.8+ KB\n"
     ]
    }
   ],
   "source": [
    "df.reset_index(drop=True, inplace=True)\n",
    "df.info()"
   ]
  },
  {
   "attachments": {},
   "cell_type": "markdown",
   "metadata": {},
   "source": [
    "#### Check Typo"
   ]
  },
  {
   "cell_type": "code",
   "execution_count": 133,
   "metadata": {},
   "outputs": [
    {
     "data": {
      "text/plain": [
       "Bencana Non Alam dan Penyakit    828\n",
       "Bencana Alam                     126\n",
       "Bencana Sosial                    16\n",
       "Name: Type, dtype: int64"
      ]
     },
     "execution_count": 133,
     "metadata": {},
     "output_type": "execute_result"
    }
   ],
   "source": [
    "df[\"Type\"].value_counts()"
   ]
  },
  {
   "cell_type": "code",
   "execution_count": 135,
   "metadata": {},
   "outputs": [
    {
     "data": {
      "text/plain": [
       "Profil Kesehatan Indonesia Tahun 2006    93\n",
       "Profil Kesehatan Indonesia Tahun 2005    91\n",
       "Profil Kesehatan Indonesia Tahun 2008    82\n",
       "Profil Kesehatan Indonesia Tahun 2004    68\n",
       "Profil Kesehatan Indonesia Tahun 2018    66\n",
       "Profil Kesehatan Indonesia Tahun 2010    66\n",
       "Profil Kesehatan Indonesia Tahun 2016    65\n",
       "Profil Kesehatan Indonesia Tahun 2017    65\n",
       "Profil Kesehatan Indonesia Tahun 2011    62\n",
       "Profil Kesehatan Indonesia Tahun 2007    58\n",
       "Profil Kesehatan Indonesia Tahun 2009    58\n",
       "Profil Kesehatan Indonesia Tahun 2015    54\n",
       "Profil Kesehatan Indonesia Tahun 2019    41\n",
       "Profil Kesehatan Indonesia Tahun 2012    40\n",
       "Profil Kesehatan Indonesia Tahun 2013    31\n",
       "Profil Kesehatan Indonesia Tahun 2014    29\n",
       "COVID19.go.id                             1\n",
       "Name: Source, dtype: int64"
      ]
     },
     "execution_count": 135,
     "metadata": {},
     "output_type": "execute_result"
    }
   ],
   "source": [
    "df[\"Source\"].value_counts()"
   ]
  },
  {
   "cell_type": "code",
   "execution_count": 136,
   "metadata": {},
   "outputs": [
    {
     "data": {
      "text/plain": [
       "https://pusdatin.kemkes.go.id/download.php?file=download/pusdatin/profil-kesehatan-indonesia/profil-kesehatan-indonesia-2006.pdf          93\n",
       "https://pusdatin.kemkes.go.id/download.php?file=download/pusdatin/profil-kesehatan-indonesia/profil-kesehatan-indonesia-2005.pdf          91\n",
       "https://pusdatin.kemkes.go.id/download.php?file=download/pusdatin/profil-kesehatan-indonesia/profil-kesehatan-indonesia-2008.pdf          82\n",
       "https://pusdatin.kemkes.go.id/download.php?file=download/pusdatin/profil-kesehatan-indonesia/profil-kesehatan-indonesia-2004.pdf          68\n",
       "https://pusdatin.kemkes.go.id/download.php?file=download/pusdatin/profil-kesehatan-indonesia/PROFIL_KESEHATAN_2018_1.pdf                  66\n",
       "https://pusdatin.kemkes.go.id/download.php?file=download/pusdatin/profil-kesehatan-indonesia/profil-kesehatan-indonesia-2010.pdf          66\n",
       "https://pusdatin.kemkes.go.id/download.php?file=download/pusdatin/profil-kesehatan-indonesia/Profil-Kesehatan-Indonesia-2016.pdf          65\n",
       "https://pusdatin.kemkes.go.id/download.php?file=download/pusdatin/profil-kesehatan-indonesia/Profil-Kesehatan-Indonesia-tahun-2017.pdf    65\n",
       "https://pusdatin.kemkes.go.id/download.php?file=download/pusdatin/profil-kesehatan-indonesia/profil-kesehatan-indonesia-2011.pdf          62\n",
       "https://pusdatin.kemkes.go.id/download.php?file=download/pusdatin/profil-kesehatan-indonesia/profil-kesehatan-indonesia-2007.pdf          58\n",
       "https://pusdatin.kemkes.go.id/download.php?file=download/pusdatin/profil-kesehatan-indonesia/profil-kesehatan-indonesia-2009.pdf          58\n",
       "https://pusdatin.kemkes.go.id/download.php?file=download/pusdatin/profil-kesehatan-indonesia/Profil-Kesehatan-Indonesia-Tahun-2015.pdf    54\n",
       "https://pusdatin.kemkes.go.id/download.php?file=download/pusdatin/profil-kesehatan-indonesia/Profil-Kesehatan-Indonesia-2019.pdf          41\n",
       "https://pusdatin.kemkes.go.id/download.php?file=download/pusdatin/profil-kesehatan-indonesia/profil-kesehatan-indonesia-2012.pdf          40\n",
       "https://pusdatin.kemkes.go.id/download.php?file=download/pusdatin/profil-kesehatan-indonesia/profil-kesehatan-indonesia-2013.pdf          31\n",
       "https://pusdatin.kemkes.go.id/download.php?file=download/pusdatin/profil-kesehatan-indonesia/profil-kesehatan-indonesia-2014.pdf          29\n",
       "unknown                                                                                                                                    1\n",
       "Name: Source URL, dtype: int64"
      ]
     },
     "execution_count": 136,
     "metadata": {},
     "output_type": "execute_result"
    }
   ],
   "source": [
    "df[\"Source URL\"].value_counts()"
   ]
  },
  {
   "cell_type": "code",
   "execution_count": 146,
   "metadata": {},
   "outputs": [
    {
     "data": {
      "text/plain": [
       "Avian Influenza (Flu Burung)                                                101\n",
       "Antraks                                                                      71\n",
       "Leptospirosis                                                                68\n",
       "KLB Diare                                                                    62\n",
       "Rabies - Lyssa                                                               47\n",
       "AIDS                                                                         41\n",
       "Demam Berdarah Dengue (DBD)                                                  24\n",
       "Tetanus Neonatorium                                                          22\n",
       "Banjir                                                                       13\n",
       "Gempa Bumi                                                                   13\n",
       "KLB Campak                                                                   13\n",
       "Banjir Bandang                                                               13\n",
       "Tanah Longsor                                                                13\n",
       "Difteri                                                                      13\n",
       "Campak                                                                       10\n",
       "Kecelakaan Industri                                                           9\n",
       "Kebakaran                                                                     9\n",
       "Kecelakaan Transportasi                                                       8\n",
       "Banjir dan Tanah Longsor                                                      8\n",
       "Letusan Gunung Api                                                            7\n",
       "Keracunan Makanan                                                             7\n",
       "Pneumonia                                                                     7\n",
       "Diare & gastroenteritis Oleh penyebab infeksi tertentu (kolitis infeksi)      6\n",
       "Penyakit Infeksi & Parasit Tertentu                                           6\n",
       "Cedera intrakranial                                                           6\n",
       "Penyakit Sistem Sirkulasi Darah                                               6\n",
       "Angin Puting Beliung                                                          6\n",
       "Penyakit Sistem Napas                                                         6\n",
       "Kondisi Tertentu yang bermula pada masa Perinatal                             6\n",
       "Cedera, Keracunan, dan Akibat Sebab Luar Tertentu Lainnya                     5\n",
       "Neoplasma                                                                     5\n",
       "Aksi Teror dan Sabotase                                                       5\n",
       "Penyakit Sistem Kemih Kelamin                                                 5\n",
       "Penyakit Sistem Cerna                                                         5\n",
       "Gejala, Tanda & Penemuan Laboratorium, Klinik Abnormal YTK                    5\n",
       "Penyakit Endokrin, Nutrisi, dan Metabolik                                     5\n",
       "Gagal Teknologi                                                               5\n",
       "Kejadian Luar Biasa (KLB) - Penyakit                                          5\n",
       "Konflik Sosial atau Kerusuhan Sosial                                          5\n",
       "Diare                                                                         5\n",
       "Kejadian Luar Biasa (KLB) - Keracunan                                         5\n",
       "Penyakit Kulit & Jaringan Subkutan                                            4\n",
       "Kegagalan Teknologi                                                           4\n",
       "Infeksi Saluran Napas Bagian Atas Akut Lainnya                                4\n",
       "Kekeringan                                                                    4\n",
       "Penyakit Sistem Muskuloskeletal dan Jaringan Ikat                             4\n",
       "Kecelakaan Lalu Lintas                                                        4\n",
       "Penyakit Mata dan Adneksa                                                     4\n",
       "Penyakit Telinga dan Pros. Mastoideus                                         4\n",
       "Penyakit Susunan Syaraf                                                       4\n",
       "Name: Cause, dtype: int64"
      ]
     },
     "execution_count": 146,
     "metadata": {},
     "output_type": "execute_result"
    }
   ],
   "source": [
    "df[\"Cause\"].value_counts().head(50)"
   ]
  }
 ],
 "metadata": {
  "kernelspec": {
   "display_name": "base",
   "language": "python",
   "name": "python3"
  },
  "language_info": {
   "codemirror_mode": {
    "name": "ipython",
    "version": 3
   },
   "file_extension": ".py",
   "mimetype": "text/x-python",
   "name": "python",
   "nbconvert_exporter": "python",
   "pygments_lexer": "ipython3",
   "version": "3.9.16"
  },
  "orig_nbformat": 4
 },
 "nbformat": 4,
 "nbformat_minor": 2
}
